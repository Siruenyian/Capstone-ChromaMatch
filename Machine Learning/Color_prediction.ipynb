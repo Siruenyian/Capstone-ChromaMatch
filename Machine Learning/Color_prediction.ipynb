{
 "cells": [
  {
   "cell_type": "code",
   "execution_count": 243,
   "metadata": {},
   "outputs": [],
   "source": [
    "import numpy as np\n",
    "import tensorflow as tf\n",
    "import pandas as pd\n",
    "import matplotlib.pyplot as plt\n",
    "from sklearn.model_selection import train_test_split"
   ]
  },
  {
   "cell_type": "code",
   "execution_count": 244,
   "metadata": {},
   "outputs": [],
   "source": [
    "csv_link=\"../dataset/dataset_color_prediction.csv\"\n",
    "csv_link=\"../dataset/sample.csv\""
   ]
  },
  {
   "cell_type": "code",
   "execution_count": 245,
   "metadata": {},
   "outputs": [],
   "source": [
    "# TODO: Create more data\n",
    "dataframe = pd.read_csv(csv_link)"
   ]
  },
  {
   "cell_type": "code",
   "execution_count": 246,
   "metadata": {},
   "outputs": [],
   "source": [
    "from sklearn.preprocessing import MinMaxScaler\n",
    "scaler=MinMaxScaler()\n",
    "dataframe=scaler.fit_transform(dataframe)\n",
    "dataframe = pd.DataFrame(dataframe, columns = ['r1','g1','b1','r2','g2','b2','r3','g3','b3','r4','g4','b4'])"
   ]
  },
  {
   "cell_type": "code",
   "execution_count": 247,
   "metadata": {},
   "outputs": [
    {
     "data": {
      "text/html": [
       "<div>\n",
       "<style scoped>\n",
       "    .dataframe tbody tr th:only-of-type {\n",
       "        vertical-align: middle;\n",
       "    }\n",
       "\n",
       "    .dataframe tbody tr th {\n",
       "        vertical-align: top;\n",
       "    }\n",
       "\n",
       "    .dataframe thead th {\n",
       "        text-align: right;\n",
       "    }\n",
       "</style>\n",
       "<table border=\"1\" class=\"dataframe\">\n",
       "  <thead>\n",
       "    <tr style=\"text-align: right;\">\n",
       "      <th></th>\n",
       "      <th>r1</th>\n",
       "      <th>g1</th>\n",
       "      <th>b1</th>\n",
       "      <th>r2</th>\n",
       "      <th>g2</th>\n",
       "      <th>b2</th>\n",
       "      <th>r3</th>\n",
       "      <th>g3</th>\n",
       "      <th>b3</th>\n",
       "      <th>r4</th>\n",
       "      <th>g4</th>\n",
       "      <th>b4</th>\n",
       "    </tr>\n",
       "  </thead>\n",
       "  <tbody>\n",
       "    <tr>\n",
       "      <th>0</th>\n",
       "      <td>0.937255</td>\n",
       "      <td>0.486275</td>\n",
       "      <td>0.556863</td>\n",
       "      <td>0.980392</td>\n",
       "      <td>0.909804</td>\n",
       "      <td>0.878431</td>\n",
       "      <td>0.713725</td>\n",
       "      <td>0.886275</td>\n",
       "      <td>0.827451</td>\n",
       "      <td>0.847059</td>\n",
       "      <td>0.654902</td>\n",
       "      <td>0.694118</td>\n",
       "    </tr>\n",
       "    <tr>\n",
       "      <th>1</th>\n",
       "      <td>0.909804</td>\n",
       "      <td>0.705882</td>\n",
       "      <td>0.721569</td>\n",
       "      <td>0.933333</td>\n",
       "      <td>0.839216</td>\n",
       "      <td>0.827451</td>\n",
       "      <td>0.643137</td>\n",
       "      <td>0.576471</td>\n",
       "      <td>0.576471</td>\n",
       "      <td>0.403922</td>\n",
       "      <td>0.349020</td>\n",
       "      <td>0.368627</td>\n",
       "    </tr>\n",
       "    <tr>\n",
       "      <th>2</th>\n",
       "      <td>0.984314</td>\n",
       "      <td>0.905882</td>\n",
       "      <td>0.776471</td>\n",
       "      <td>0.705882</td>\n",
       "      <td>0.972549</td>\n",
       "      <td>0.784314</td>\n",
       "      <td>0.627451</td>\n",
       "      <td>0.905882</td>\n",
       "      <td>0.898039</td>\n",
       "      <td>1.000000</td>\n",
       "      <td>0.682353</td>\n",
       "      <td>0.737255</td>\n",
       "    </tr>\n",
       "    <tr>\n",
       "      <th>3</th>\n",
       "      <td>0.019608</td>\n",
       "      <td>0.266667</td>\n",
       "      <td>0.368627</td>\n",
       "      <td>0.094118</td>\n",
       "      <td>0.603922</td>\n",
       "      <td>0.705882</td>\n",
       "      <td>0.458824</td>\n",
       "      <td>0.901961</td>\n",
       "      <td>0.854902</td>\n",
       "      <td>0.831373</td>\n",
       "      <td>0.945098</td>\n",
       "      <td>0.956863</td>\n",
       "    </tr>\n",
       "    <tr>\n",
       "      <th>4</th>\n",
       "      <td>0.905882</td>\n",
       "      <td>0.823529</td>\n",
       "      <td>0.800000</td>\n",
       "      <td>0.725490</td>\n",
       "      <td>0.717647</td>\n",
       "      <td>0.741176</td>\n",
       "      <td>0.525490</td>\n",
       "      <td>0.545098</td>\n",
       "      <td>0.556863</td>\n",
       "      <td>0.933333</td>\n",
       "      <td>0.929412</td>\n",
       "      <td>0.905882</td>\n",
       "    </tr>\n",
       "  </tbody>\n",
       "</table>\n",
       "</div>"
      ],
      "text/plain": [
       "         r1        g1        b1        r2        g2        b2        r3   \n",
       "0  0.937255  0.486275  0.556863  0.980392  0.909804  0.878431  0.713725  \\\n",
       "1  0.909804  0.705882  0.721569  0.933333  0.839216  0.827451  0.643137   \n",
       "2  0.984314  0.905882  0.776471  0.705882  0.972549  0.784314  0.627451   \n",
       "3  0.019608  0.266667  0.368627  0.094118  0.603922  0.705882  0.458824   \n",
       "4  0.905882  0.823529  0.800000  0.725490  0.717647  0.741176  0.525490   \n",
       "\n",
       "         g3        b3        r4        g4        b4  \n",
       "0  0.886275  0.827451  0.847059  0.654902  0.694118  \n",
       "1  0.576471  0.576471  0.403922  0.349020  0.368627  \n",
       "2  0.905882  0.898039  1.000000  0.682353  0.737255  \n",
       "3  0.901961  0.854902  0.831373  0.945098  0.956863  \n",
       "4  0.545098  0.556863  0.933333  0.929412  0.905882  "
      ]
     },
     "execution_count": 247,
     "metadata": {},
     "output_type": "execute_result"
    }
   ],
   "source": [
    "dataframe.head()"
   ]
  },
  {
   "cell_type": "code",
   "execution_count": 248,
   "metadata": {},
   "outputs": [],
   "source": [
    "input_sequence = dataframe.copy()\n",
    "target_sequence = pd.DataFrame([input_sequence.pop(x) for x in ['r2','g2','b2','r3','g3','b3','r4','g4','b4']]).T\n"
   ]
  },
  {
   "cell_type": "code",
   "execution_count": 249,
   "metadata": {},
   "outputs": [
    {
     "data": {
      "text/html": [
       "<div>\n",
       "<style scoped>\n",
       "    .dataframe tbody tr th:only-of-type {\n",
       "        vertical-align: middle;\n",
       "    }\n",
       "\n",
       "    .dataframe tbody tr th {\n",
       "        vertical-align: top;\n",
       "    }\n",
       "\n",
       "    .dataframe thead th {\n",
       "        text-align: right;\n",
       "    }\n",
       "</style>\n",
       "<table border=\"1\" class=\"dataframe\">\n",
       "  <thead>\n",
       "    <tr style=\"text-align: right;\">\n",
       "      <th></th>\n",
       "      <th>r2</th>\n",
       "      <th>g2</th>\n",
       "      <th>b2</th>\n",
       "      <th>r3</th>\n",
       "      <th>g3</th>\n",
       "      <th>b3</th>\n",
       "      <th>r4</th>\n",
       "      <th>g4</th>\n",
       "      <th>b4</th>\n",
       "    </tr>\n",
       "  </thead>\n",
       "  <tbody>\n",
       "    <tr>\n",
       "      <th>0</th>\n",
       "      <td>0.980392</td>\n",
       "      <td>0.909804</td>\n",
       "      <td>0.878431</td>\n",
       "      <td>0.713725</td>\n",
       "      <td>0.886275</td>\n",
       "      <td>0.827451</td>\n",
       "      <td>0.847059</td>\n",
       "      <td>0.654902</td>\n",
       "      <td>0.694118</td>\n",
       "    </tr>\n",
       "    <tr>\n",
       "      <th>1</th>\n",
       "      <td>0.933333</td>\n",
       "      <td>0.839216</td>\n",
       "      <td>0.827451</td>\n",
       "      <td>0.643137</td>\n",
       "      <td>0.576471</td>\n",
       "      <td>0.576471</td>\n",
       "      <td>0.403922</td>\n",
       "      <td>0.349020</td>\n",
       "      <td>0.368627</td>\n",
       "    </tr>\n",
       "    <tr>\n",
       "      <th>2</th>\n",
       "      <td>0.705882</td>\n",
       "      <td>0.972549</td>\n",
       "      <td>0.784314</td>\n",
       "      <td>0.627451</td>\n",
       "      <td>0.905882</td>\n",
       "      <td>0.898039</td>\n",
       "      <td>1.000000</td>\n",
       "      <td>0.682353</td>\n",
       "      <td>0.737255</td>\n",
       "    </tr>\n",
       "    <tr>\n",
       "      <th>3</th>\n",
       "      <td>0.094118</td>\n",
       "      <td>0.603922</td>\n",
       "      <td>0.705882</td>\n",
       "      <td>0.458824</td>\n",
       "      <td>0.901961</td>\n",
       "      <td>0.854902</td>\n",
       "      <td>0.831373</td>\n",
       "      <td>0.945098</td>\n",
       "      <td>0.956863</td>\n",
       "    </tr>\n",
       "    <tr>\n",
       "      <th>4</th>\n",
       "      <td>0.725490</td>\n",
       "      <td>0.717647</td>\n",
       "      <td>0.741176</td>\n",
       "      <td>0.525490</td>\n",
       "      <td>0.545098</td>\n",
       "      <td>0.556863</td>\n",
       "      <td>0.933333</td>\n",
       "      <td>0.929412</td>\n",
       "      <td>0.905882</td>\n",
       "    </tr>\n",
       "    <tr>\n",
       "      <th>...</th>\n",
       "      <td>...</td>\n",
       "      <td>...</td>\n",
       "      <td>...</td>\n",
       "      <td>...</td>\n",
       "      <td>...</td>\n",
       "      <td>...</td>\n",
       "      <td>...</td>\n",
       "      <td>...</td>\n",
       "      <td>...</td>\n",
       "    </tr>\n",
       "    <tr>\n",
       "      <th>1995</th>\n",
       "      <td>0.901961</td>\n",
       "      <td>0.870588</td>\n",
       "      <td>0.827451</td>\n",
       "      <td>0.200000</td>\n",
       "      <td>0.529412</td>\n",
       "      <td>0.364706</td>\n",
       "      <td>0.854902</td>\n",
       "      <td>0.400000</td>\n",
       "      <td>0.313725</td>\n",
       "    </tr>\n",
       "    <tr>\n",
       "      <th>1996</th>\n",
       "      <td>0.921569</td>\n",
       "      <td>0.317647</td>\n",
       "      <td>0.368627</td>\n",
       "      <td>0.827451</td>\n",
       "      <td>0.752941</td>\n",
       "      <td>0.698039</td>\n",
       "      <td>0.043137</td>\n",
       "      <td>0.035294</td>\n",
       "      <td>0.035294</td>\n",
       "    </tr>\n",
       "    <tr>\n",
       "      <th>1997</th>\n",
       "      <td>0.184314</td>\n",
       "      <td>0.850980</td>\n",
       "      <td>0.937255</td>\n",
       "      <td>0.019608</td>\n",
       "      <td>0.701961</td>\n",
       "      <td>0.921569</td>\n",
       "      <td>0.917647</td>\n",
       "      <td>0.917647</td>\n",
       "      <td>0.901961</td>\n",
       "    </tr>\n",
       "    <tr>\n",
       "      <th>1998</th>\n",
       "      <td>0.000000</td>\n",
       "      <td>0.450980</td>\n",
       "      <td>0.360784</td>\n",
       "      <td>0.968627</td>\n",
       "      <td>0.529412</td>\n",
       "      <td>0.172549</td>\n",
       "      <td>0.709804</td>\n",
       "      <td>0.694118</td>\n",
       "      <td>0.674510</td>\n",
       "    </tr>\n",
       "    <tr>\n",
       "      <th>1999</th>\n",
       "      <td>0.952941</td>\n",
       "      <td>0.086275</td>\n",
       "      <td>0.117647</td>\n",
       "      <td>0.576471</td>\n",
       "      <td>0.670588</td>\n",
       "      <td>0.807843</td>\n",
       "      <td>0.015686</td>\n",
       "      <td>0.219608</td>\n",
       "      <td>0.305882</td>\n",
       "    </tr>\n",
       "  </tbody>\n",
       "</table>\n",
       "<p>2000 rows × 9 columns</p>\n",
       "</div>"
      ],
      "text/plain": [
       "            r2        g2        b2        r3        g3        b3        r4   \n",
       "0     0.980392  0.909804  0.878431  0.713725  0.886275  0.827451  0.847059  \\\n",
       "1     0.933333  0.839216  0.827451  0.643137  0.576471  0.576471  0.403922   \n",
       "2     0.705882  0.972549  0.784314  0.627451  0.905882  0.898039  1.000000   \n",
       "3     0.094118  0.603922  0.705882  0.458824  0.901961  0.854902  0.831373   \n",
       "4     0.725490  0.717647  0.741176  0.525490  0.545098  0.556863  0.933333   \n",
       "...        ...       ...       ...       ...       ...       ...       ...   \n",
       "1995  0.901961  0.870588  0.827451  0.200000  0.529412  0.364706  0.854902   \n",
       "1996  0.921569  0.317647  0.368627  0.827451  0.752941  0.698039  0.043137   \n",
       "1997  0.184314  0.850980  0.937255  0.019608  0.701961  0.921569  0.917647   \n",
       "1998  0.000000  0.450980  0.360784  0.968627  0.529412  0.172549  0.709804   \n",
       "1999  0.952941  0.086275  0.117647  0.576471  0.670588  0.807843  0.015686   \n",
       "\n",
       "            g4        b4  \n",
       "0     0.654902  0.694118  \n",
       "1     0.349020  0.368627  \n",
       "2     0.682353  0.737255  \n",
       "3     0.945098  0.956863  \n",
       "4     0.929412  0.905882  \n",
       "...        ...       ...  \n",
       "1995  0.400000  0.313725  \n",
       "1996  0.035294  0.035294  \n",
       "1997  0.917647  0.901961  \n",
       "1998  0.694118  0.674510  \n",
       "1999  0.219608  0.305882  \n",
       "\n",
       "[2000 rows x 9 columns]"
      ]
     },
     "execution_count": 249,
     "metadata": {},
     "output_type": "execute_result"
    }
   ],
   "source": [
    "target_sequence"
   ]
  },
  {
   "cell_type": "code",
   "execution_count": 250,
   "metadata": {},
   "outputs": [
    {
     "data": {
      "text/html": [
       "<div>\n",
       "<style scoped>\n",
       "    .dataframe tbody tr th:only-of-type {\n",
       "        vertical-align: middle;\n",
       "    }\n",
       "\n",
       "    .dataframe tbody tr th {\n",
       "        vertical-align: top;\n",
       "    }\n",
       "\n",
       "    .dataframe thead th {\n",
       "        text-align: right;\n",
       "    }\n",
       "</style>\n",
       "<table border=\"1\" class=\"dataframe\">\n",
       "  <thead>\n",
       "    <tr style=\"text-align: right;\">\n",
       "      <th></th>\n",
       "      <th>r1</th>\n",
       "      <th>g1</th>\n",
       "      <th>b1</th>\n",
       "    </tr>\n",
       "  </thead>\n",
       "  <tbody>\n",
       "    <tr>\n",
       "      <th>0</th>\n",
       "      <td>0.937255</td>\n",
       "      <td>0.486275</td>\n",
       "      <td>0.556863</td>\n",
       "    </tr>\n",
       "    <tr>\n",
       "      <th>1</th>\n",
       "      <td>0.909804</td>\n",
       "      <td>0.705882</td>\n",
       "      <td>0.721569</td>\n",
       "    </tr>\n",
       "    <tr>\n",
       "      <th>2</th>\n",
       "      <td>0.984314</td>\n",
       "      <td>0.905882</td>\n",
       "      <td>0.776471</td>\n",
       "    </tr>\n",
       "    <tr>\n",
       "      <th>3</th>\n",
       "      <td>0.019608</td>\n",
       "      <td>0.266667</td>\n",
       "      <td>0.368627</td>\n",
       "    </tr>\n",
       "    <tr>\n",
       "      <th>4</th>\n",
       "      <td>0.905882</td>\n",
       "      <td>0.823529</td>\n",
       "      <td>0.800000</td>\n",
       "    </tr>\n",
       "    <tr>\n",
       "      <th>...</th>\n",
       "      <td>...</td>\n",
       "      <td>...</td>\n",
       "      <td>...</td>\n",
       "    </tr>\n",
       "    <tr>\n",
       "      <th>1995</th>\n",
       "      <td>0.607843</td>\n",
       "      <td>0.556863</td>\n",
       "      <td>0.545098</td>\n",
       "    </tr>\n",
       "    <tr>\n",
       "      <th>1996</th>\n",
       "      <td>0.352941</td>\n",
       "      <td>0.568627</td>\n",
       "      <td>0.733333</td>\n",
       "    </tr>\n",
       "    <tr>\n",
       "      <th>1997</th>\n",
       "      <td>0.270588</td>\n",
       "      <td>0.380392</td>\n",
       "      <td>0.466667</td>\n",
       "    </tr>\n",
       "    <tr>\n",
       "      <th>1998</th>\n",
       "      <td>0.137255</td>\n",
       "      <td>0.101961</td>\n",
       "      <td>0.101961</td>\n",
       "    </tr>\n",
       "    <tr>\n",
       "      <th>1999</th>\n",
       "      <td>0.282353</td>\n",
       "      <td>0.501961</td>\n",
       "      <td>0.466667</td>\n",
       "    </tr>\n",
       "  </tbody>\n",
       "</table>\n",
       "<p>2000 rows × 3 columns</p>\n",
       "</div>"
      ],
      "text/plain": [
       "            r1        g1        b1\n",
       "0     0.937255  0.486275  0.556863\n",
       "1     0.909804  0.705882  0.721569\n",
       "2     0.984314  0.905882  0.776471\n",
       "3     0.019608  0.266667  0.368627\n",
       "4     0.905882  0.823529  0.800000\n",
       "...        ...       ...       ...\n",
       "1995  0.607843  0.556863  0.545098\n",
       "1996  0.352941  0.568627  0.733333\n",
       "1997  0.270588  0.380392  0.466667\n",
       "1998  0.137255  0.101961  0.101961\n",
       "1999  0.282353  0.501961  0.466667\n",
       "\n",
       "[2000 rows x 3 columns]"
      ]
     },
     "execution_count": 250,
     "metadata": {},
     "output_type": "execute_result"
    }
   ],
   "source": [
    "input_sequence"
   ]
  },
  {
   "cell_type": "code",
   "execution_count": 251,
   "metadata": {},
   "outputs": [],
   "source": [
    "input_sequence = np.reshape(input_sequence, (input_sequence.shape[0], input_sequence.shape[1], 1))\n",
    "target_sequence = np.reshape(target_sequence, (2000,-1))\n"
   ]
  },
  {
   "cell_type": "code",
   "execution_count": 252,
   "metadata": {},
   "outputs": [
    {
     "data": {
      "text/plain": [
       "(2000, 3, 1)"
      ]
     },
     "execution_count": 252,
     "metadata": {},
     "output_type": "execute_result"
    }
   ],
   "source": [
    "input_sequence.shape\n"
   ]
  },
  {
   "cell_type": "code",
   "execution_count": 253,
   "metadata": {},
   "outputs": [
    {
     "data": {
      "text/plain": [
       "(2000, 9)"
      ]
     },
     "execution_count": 253,
     "metadata": {},
     "output_type": "execute_result"
    }
   ],
   "source": [
    "target_sequence.shape"
   ]
  },
  {
   "cell_type": "code",
   "execution_count": 254,
   "metadata": {},
   "outputs": [],
   "source": [
    "X_train, X_test, y_train, y_test = train_test_split(input_sequence, target_sequence, test_size=0.33)"
   ]
  },
  {
   "cell_type": "code",
   "execution_count": 255,
   "metadata": {},
   "outputs": [],
   "source": [
    "model = tf.keras.models.Sequential()\n",
    "model.add(tf.keras.layers.LSTM(300, activation='relu', input_shape=(input_sequence.shape[1], input_sequence.shape[2])))\n",
    "model.add(tf.keras.layers.Dense(256))\n",
    "model.add(tf.keras.layers.Dense(180))\n",
    "model.add(tf.keras.layers.Dense(72))\n",
    "model.add(tf.keras.layers.Dense(36))\n",
    "model.add(tf.keras.layers.Dense(target_sequence.shape[1]))\n",
    "\n"
   ]
  },
  {
   "cell_type": "code",
   "execution_count": 256,
   "metadata": {},
   "outputs": [],
   "source": [
    "# Compile the model\n",
    "model.compile(optimizer='adam', loss='mse', metrics=['accuracy'])\n",
    "\n"
   ]
  },
  {
   "cell_type": "code",
   "execution_count": 257,
   "metadata": {},
   "outputs": [
    {
     "data": {
      "text/plain": [
       "(None, 3, 1)"
      ]
     },
     "execution_count": 257,
     "metadata": {},
     "output_type": "execute_result"
    }
   ],
   "source": [
    "model.input_shape"
   ]
  },
  {
   "cell_type": "code",
   "execution_count": 258,
   "metadata": {},
   "outputs": [
    {
     "name": "stdout",
     "output_type": "stream",
     "text": [
      "Model: \"sequential_9\"\n",
      "_________________________________________________________________\n",
      " Layer (type)                Output Shape              Param #   \n",
      "=================================================================\n",
      " lstm_9 (LSTM)               (None, 300)               362400    \n",
      "                                                                 \n",
      " dense_45 (Dense)            (None, 256)               77056     \n",
      "                                                                 \n",
      " dense_46 (Dense)            (None, 180)               46260     \n",
      "                                                                 \n",
      " dense_47 (Dense)            (None, 72)                13032     \n",
      "                                                                 \n",
      " dense_48 (Dense)            (None, 36)                2628      \n",
      "                                                                 \n",
      " dense_49 (Dense)            (None, 9)                 333       \n",
      "                                                                 \n",
      "=================================================================\n",
      "Total params: 501,709\n",
      "Trainable params: 501,709\n",
      "Non-trainable params: 0\n",
      "_________________________________________________________________\n"
     ]
    }
   ],
   "source": [
    "model.summary()"
   ]
  },
  {
   "cell_type": "code",
   "execution_count": 259,
   "metadata": {},
   "outputs": [
    {
     "data": {
      "text/plain": [
       "array([[0.01960784],\n",
       "       [0.26666667],\n",
       "       [0.36862745]])"
      ]
     },
     "execution_count": 259,
     "metadata": {},
     "output_type": "execute_result"
    }
   ],
   "source": [
    "input_sequence[3]"
   ]
  },
  {
   "cell_type": "code",
   "execution_count": 260,
   "metadata": {},
   "outputs": [
    {
     "name": "stdout",
     "output_type": "stream",
     "text": [
      "Epoch 1/40\n",
      "42/42 [==============================] - 3s 19ms/step - loss: 0.1318 - accuracy: 0.1679 - val_loss: 0.0870 - val_accuracy: 0.2379\n",
      "Epoch 2/40\n",
      "42/42 [==============================] - 1s 15ms/step - loss: 0.0892 - accuracy: 0.1933 - val_loss: 0.0863 - val_accuracy: 0.2485\n",
      "Epoch 3/40\n",
      "42/42 [==============================] - 1s 14ms/step - loss: 0.0886 - accuracy: 0.2291 - val_loss: 0.0849 - val_accuracy: 0.2227\n",
      "Epoch 4/40\n",
      "42/42 [==============================] - 1s 15ms/step - loss: 0.0891 - accuracy: 0.2254 - val_loss: 0.0865 - val_accuracy: 0.2167\n",
      "Epoch 5/40\n",
      "42/42 [==============================] - 1s 14ms/step - loss: 0.0895 - accuracy: 0.2239 - val_loss: 0.0871 - val_accuracy: 0.2379\n",
      "Epoch 6/40\n",
      "42/42 [==============================] - 1s 15ms/step - loss: 0.0885 - accuracy: 0.2179 - val_loss: 0.0853 - val_accuracy: 0.2439\n",
      "Epoch 7/40\n",
      "42/42 [==============================] - 1s 14ms/step - loss: 0.0884 - accuracy: 0.2239 - val_loss: 0.0865 - val_accuracy: 0.2439\n",
      "Epoch 8/40\n",
      "42/42 [==============================] - 1s 14ms/step - loss: 0.0884 - accuracy: 0.2261 - val_loss: 0.0850 - val_accuracy: 0.2318\n",
      "Epoch 9/40\n",
      "42/42 [==============================] - 1s 15ms/step - loss: 0.0879 - accuracy: 0.2388 - val_loss: 0.0854 - val_accuracy: 0.2470\n",
      "Epoch 10/40\n",
      "42/42 [==============================] - 1s 16ms/step - loss: 0.0876 - accuracy: 0.2276 - val_loss: 0.0924 - val_accuracy: 0.2318\n",
      "Epoch 11/40\n",
      "42/42 [==============================] - 1s 15ms/step - loss: 0.0883 - accuracy: 0.2425 - val_loss: 0.0866 - val_accuracy: 0.1500\n",
      "Epoch 12/40\n",
      "42/42 [==============================] - 1s 15ms/step - loss: 0.0873 - accuracy: 0.2209 - val_loss: 0.0853 - val_accuracy: 0.2273\n",
      "Epoch 13/40\n",
      "42/42 [==============================] - 1s 14ms/step - loss: 0.0880 - accuracy: 0.2276 - val_loss: 0.0850 - val_accuracy: 0.2409\n",
      "Epoch 14/40\n",
      "42/42 [==============================] - 1s 15ms/step - loss: 0.0870 - accuracy: 0.2351 - val_loss: 0.0849 - val_accuracy: 0.1727\n",
      "Epoch 15/40\n",
      "42/42 [==============================] - 1s 16ms/step - loss: 0.0875 - accuracy: 0.2209 - val_loss: 0.0844 - val_accuracy: 0.2212\n",
      "Epoch 16/40\n",
      "42/42 [==============================] - 1s 15ms/step - loss: 0.0866 - accuracy: 0.2530 - val_loss: 0.0854 - val_accuracy: 0.2318\n",
      "Epoch 17/40\n",
      "42/42 [==============================] - 1s 15ms/step - loss: 0.0868 - accuracy: 0.2470 - val_loss: 0.0844 - val_accuracy: 0.2455\n",
      "Epoch 18/40\n",
      "42/42 [==============================] - 1s 14ms/step - loss: 0.0865 - accuracy: 0.2373 - val_loss: 0.0849 - val_accuracy: 0.2273\n",
      "Epoch 19/40\n",
      "42/42 [==============================] - 1s 15ms/step - loss: 0.0869 - accuracy: 0.2463 - val_loss: 0.0845 - val_accuracy: 0.2182\n",
      "Epoch 20/40\n",
      "42/42 [==============================] - 1s 16ms/step - loss: 0.0871 - accuracy: 0.2440 - val_loss: 0.0851 - val_accuracy: 0.2409\n",
      "Epoch 21/40\n",
      "42/42 [==============================] - 1s 18ms/step - loss: 0.0869 - accuracy: 0.2179 - val_loss: 0.0847 - val_accuracy: 0.2455\n",
      "Epoch 22/40\n",
      "42/42 [==============================] - 1s 18ms/step - loss: 0.0870 - accuracy: 0.2134 - val_loss: 0.0850 - val_accuracy: 0.2379\n",
      "Epoch 23/40\n",
      "42/42 [==============================] - 1s 16ms/step - loss: 0.0867 - accuracy: 0.2216 - val_loss: 0.0890 - val_accuracy: 0.2015\n",
      "Epoch 24/40\n",
      "42/42 [==============================] - 1s 16ms/step - loss: 0.0873 - accuracy: 0.2291 - val_loss: 0.0846 - val_accuracy: 0.2288\n",
      "Epoch 25/40\n",
      "42/42 [==============================] - 1s 16ms/step - loss: 0.0866 - accuracy: 0.2366 - val_loss: 0.0848 - val_accuracy: 0.1970\n",
      "Epoch 26/40\n",
      "42/42 [==============================] - 1s 15ms/step - loss: 0.0869 - accuracy: 0.2172 - val_loss: 0.0848 - val_accuracy: 0.2439\n",
      "Epoch 27/40\n",
      "42/42 [==============================] - 1s 16ms/step - loss: 0.0868 - accuracy: 0.2194 - val_loss: 0.0857 - val_accuracy: 0.2091\n",
      "Epoch 28/40\n",
      "42/42 [==============================] - 1s 16ms/step - loss: 0.0867 - accuracy: 0.2321 - val_loss: 0.0848 - val_accuracy: 0.2485\n",
      "Epoch 29/40\n",
      "42/42 [==============================] - 1s 16ms/step - loss: 0.0863 - accuracy: 0.2403 - val_loss: 0.0845 - val_accuracy: 0.2182\n",
      "Epoch 30/40\n",
      "42/42 [==============================] - 1s 14ms/step - loss: 0.0865 - accuracy: 0.2351 - val_loss: 0.0849 - val_accuracy: 0.2288\n",
      "Epoch 31/40\n",
      "42/42 [==============================] - 1s 15ms/step - loss: 0.0865 - accuracy: 0.2448 - val_loss: 0.0868 - val_accuracy: 0.2485\n",
      "Epoch 32/40\n",
      "42/42 [==============================] - 1s 15ms/step - loss: 0.0863 - accuracy: 0.2306 - val_loss: 0.0849 - val_accuracy: 0.2409\n",
      "Epoch 33/40\n",
      "42/42 [==============================] - 1s 14ms/step - loss: 0.0863 - accuracy: 0.2373 - val_loss: 0.0855 - val_accuracy: 0.2318\n",
      "Epoch 34/40\n",
      "42/42 [==============================] - 1s 14ms/step - loss: 0.0863 - accuracy: 0.2321 - val_loss: 0.0849 - val_accuracy: 0.2348\n",
      "Epoch 35/40\n",
      "42/42 [==============================] - 1s 15ms/step - loss: 0.0863 - accuracy: 0.2336 - val_loss: 0.0853 - val_accuracy: 0.2091\n",
      "Epoch 36/40\n",
      "42/42 [==============================] - 1s 16ms/step - loss: 0.0866 - accuracy: 0.2410 - val_loss: 0.0838 - val_accuracy: 0.2197\n",
      "Epoch 37/40\n",
      "42/42 [==============================] - 1s 17ms/step - loss: 0.0867 - accuracy: 0.2478 - val_loss: 0.0841 - val_accuracy: 0.2318\n",
      "Epoch 38/40\n",
      "42/42 [==============================] - 1s 16ms/step - loss: 0.0864 - accuracy: 0.2470 - val_loss: 0.0838 - val_accuracy: 0.2348\n",
      "Epoch 39/40\n",
      "42/42 [==============================] - 1s 15ms/step - loss: 0.0870 - accuracy: 0.2216 - val_loss: 0.0855 - val_accuracy: 0.2409\n",
      "Epoch 40/40\n",
      "42/42 [==============================] - 1s 16ms/step - loss: 0.0864 - accuracy: 0.2216 - val_loss: 0.0841 - val_accuracy: 0.2242\n"
     ]
    }
   ],
   "source": [
    "# Train the model\n",
    "history=model.fit(X_train, y_train, epochs=40, batch_size=32,\n",
    "                    verbose=1,validation_data=(X_test,y_test))\n",
    "\n"
   ]
  },
  {
   "cell_type": "code",
   "execution_count": 261,
   "metadata": {},
   "outputs": [
    {
     "name": "stdout",
     "output_type": "stream",
     "text": [
      "WARNING:tensorflow:5 out of the last 14 calls to <function Model.make_predict_function.<locals>.predict_function at 0x000001A23F8C8790> triggered tf.function retracing. Tracing is expensive and the excessive number of tracings could be due to (1) creating @tf.function repeatedly in a loop, (2) passing tensors with different shapes, (3) passing Python objects instead of tensors. For (1), please define your @tf.function outside of the loop. For (2), @tf.function has reduce_retracing=True option that can avoid unnecessary retracing. For (3), please refer to https://www.tensorflow.org/guide/function#controlling_retracing and https://www.tensorflow.org/api_docs/python/tf/function for  more details.\n",
      "1/1 [==============================] - 0s 157ms/step\n",
      "[[120.445015 106.2338   108.47843  136.55603  136.08406  148.18076\n",
      "  160.68057  157.35555  153.51988 ]]\n"
     ]
    }
   ],
   "source": [
    "# Generate some test data\n",
    "dara=[[223,158,114]]\n",
    "\n",
    "test_input = np.array(dara)\n",
    "scaled_input=scaler.fit_transform(dara)\n",
    "predictions = model.predict(scaled_input)\n",
    "predictions= predictions*255\n",
    "# Print the predictions\n",
    "print(predictions)"
   ]
  },
  {
   "cell_type": "code",
   "execution_count": 262,
   "metadata": {},
   "outputs": [
    {
     "data": {
      "image/png": "[encoded data removed]",
      "text/plain": [
       "<Figure size 640x480 with 1 Axes>"
      ]
     },
     "metadata": {},
     "output_type": "display_data"
    },
    {
     "data": {
      "image/png": "[encoded data removed]",
      "text/plain": [
       "<Figure size 640x480 with 1 Axes>"
      ]
     },
     "metadata": {},
     "output_type": "display_data"
    },
    {
     "data": {
      "image/png": "[encoded data removed]",
      "text/plain": [
       "<Figure size 640x480 with 1 Axes>"
      ]
     },
     "metadata": {},
     "output_type": "display_data"
    },
    {
     "data": {
      "image/png": "[encoded data removed]",
      "text/plain": [
       "<Figure size 640x480 with 1 Axes>"
      ]
     },
     "metadata": {},
     "output_type": "display_data"
    }
   ],
   "source": [
    "plt.imshow([[[x / 255 for x in test_input[0]]]])\n",
    "plt.show()\n",
    "plt.imshow([[[x / 255 for x in predictions[0][0:3]]]])\n",
    "plt.show()\n",
    "plt.imshow([[[x / 255 for x in predictions[0][3:6]]]])\n",
    "plt.show()\n",
    "plt.imshow([[[x / 255 for x in predictions[0][6:9]]]])\n",
    "plt.show()"
   ]
  },
  {
   "cell_type": "code",
   "execution_count": 263,
   "metadata": {},
   "outputs": [
    {
     "data": {
      "image/png": "[encoded data removed]",
      "text/plain": [
       "<Figure size 640x480 with 1 Axes>"
      ]
     },
     "metadata": {},
     "output_type": "display_data"
    },
    {
     "name": "stdout",
     "output_type": "stream",
     "text": [
      "\n"
     ]
    },
    {
     "data": {
      "image/png": "[encoded data removed]",
      "text/plain": [
       "<Figure size 640x480 with 1 Axes>"
      ]
     },
     "metadata": {},
     "output_type": "display_data"
    }
   ],
   "source": [
    "#-----------------------------------------------------------\n",
    "# Retrieve a list of list results on training and test data\n",
    "# sets for each training epoch\n",
    "#-----------------------------------------------------------\n",
    "acc=history.history['accuracy']\n",
    "val_acc=history.history['val_accuracy']\n",
    "loss=history.history['loss']\n",
    "val_loss=history.history['val_loss']\n",
    "\n",
    "epochs=range(len(acc)) # Get number of epochs\n",
    "\n",
    "#------------------------------------------------\n",
    "# Plot training and validation accuracy per epoch\n",
    "#------------------------------------------------\n",
    "plt.plot(epochs, acc, 'r', \"Training Accuracy\")\n",
    "plt.plot(epochs, val_acc, 'b', \"Validation Accuracy\")\n",
    "plt.title('Training and validation accuracy')\n",
    "plt.show()\n",
    "print(\"\")\n",
    "\n",
    "#------------------------------------------------\n",
    "# Plot training and validation loss per epoch\n",
    "#------------------------------------------------\n",
    "plt.plot(epochs, loss, 'r', \"Training Loss\")\n",
    "plt.plot(epochs, val_loss, 'b', \"Validation Loss\")\n",
    "plt.show()"
   ]
  },
  {
   "cell_type": "code",
   "execution_count": null,
   "metadata": {},
   "outputs": [],
   "source": []
  }
 ],
 "metadata": {
  "kernelspec": {
   "display_name": ".venv",
   "language": "python",
   "name": "python3"
  },
  "language_info": {
   "codemirror_mode": {
    "name": "ipython",
    "version": 3
   },
   "file_extension": ".py",
   "mimetype": "text/x-python",
   "name": "python",
   "nbconvert_exporter": "python",
   "pygments_lexer": "ipython3",
   "version": "3.9.7"
  },
  "orig_nbformat": 4
 },
 "nbformat": 4,
 "nbformat_minor": 2
}
