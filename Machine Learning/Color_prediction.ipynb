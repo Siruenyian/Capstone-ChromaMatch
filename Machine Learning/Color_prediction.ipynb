{
 "cells": [
  {
   "cell_type": "code",
   "execution_count": 2,
   "metadata": {},
   "outputs": [],
   "source": [
    "import numpy as np\n",
    "import tensorflow as tf\n",
    "import pandas as pd\n",
    "import matplotlib.pyplot as plt"
   ]
  },
  {
   "cell_type": "code",
   "execution_count": 18,
   "metadata": {},
   "outputs": [],
   "source": [
    "csv_link=\"../dataset_color_prediction.csv\""
   ]
  },
  {
   "cell_type": "code",
   "execution_count": 19,
   "metadata": {},
   "outputs": [],
   "source": [
    "# TODO: Create more data\n",
    "dataframe = pd.read_csv(csv_link)"
   ]
  },
  {
   "cell_type": "code",
   "execution_count": 20,
   "metadata": {},
   "outputs": [
    {
     "data": {
      "text/html": [
       "<div>\n",
       "<style scoped>\n",
       "    .dataframe tbody tr th:only-of-type {\n",
       "        vertical-align: middle;\n",
       "    }\n",
       "\n",
       "    .dataframe tbody tr th {\n",
       "        vertical-align: top;\n",
       "    }\n",
       "\n",
       "    .dataframe thead th {\n",
       "        text-align: right;\n",
       "    }\n",
       "</style>\n",
       "<table border=\"1\" class=\"dataframe\">\n",
       "  <thead>\n",
       "    <tr style=\"text-align: right;\">\n",
       "      <th></th>\n",
       "      <th>r1</th>\n",
       "      <th>g1</th>\n",
       "      <th>b1</th>\n",
       "      <th>r2</th>\n",
       "      <th>g2</th>\n",
       "      <th>b2</th>\n",
       "      <th>r3</th>\n",
       "      <th>g3</th>\n",
       "      <th>b3</th>\n",
       "      <th>r4</th>\n",
       "      <th>g4</th>\n",
       "      <th>b4</th>\n",
       "    </tr>\n",
       "  </thead>\n",
       "  <tbody>\n",
       "    <tr>\n",
       "      <th>0</th>\n",
       "      <td>244</td>\n",
       "      <td>228</td>\n",
       "      <td>220</td>\n",
       "      <td>78</td>\n",
       "      <td>100</td>\n",
       "      <td>184</td>\n",
       "      <td>6</td>\n",
       "      <td>10</td>\n",
       "      <td>200</td>\n",
       "      <td>137</td>\n",
       "      <td>204</td>\n",
       "      <td>235</td>\n",
       "    </tr>\n",
       "    <tr>\n",
       "      <th>1</th>\n",
       "      <td>223</td>\n",
       "      <td>158</td>\n",
       "      <td>114</td>\n",
       "      <td>254</td>\n",
       "      <td>127</td>\n",
       "      <td>80</td>\n",
       "      <td>246</td>\n",
       "      <td>61</td>\n",
       "      <td>26</td>\n",
       "      <td>211</td>\n",
       "      <td>31</td>\n",
       "      <td>9</td>\n",
       "    </tr>\n",
       "    <tr>\n",
       "      <th>2</th>\n",
       "      <td>160</td>\n",
       "      <td>99</td>\n",
       "      <td>68</td>\n",
       "      <td>149</td>\n",
       "      <td>190</td>\n",
       "      <td>45</td>\n",
       "      <td>105</td>\n",
       "      <td>231</td>\n",
       "      <td>194</td>\n",
       "      <td>63</td>\n",
       "      <td>69</td>\n",
       "      <td>83</td>\n",
       "    </tr>\n",
       "  </tbody>\n",
       "</table>\n",
       "</div>"
      ],
      "text/plain": [
       "    r1   g1   b1   r2   g2   b2   r3   g3   b3   r4   g4   b4\n",
       "0  244  228  220   78  100  184    6   10  200  137  204  235\n",
       "1  223  158  114  254  127   80  246   61   26  211   31    9\n",
       "2  160   99   68  149  190   45  105  231  194   63   69   83"
      ]
     },
     "execution_count": 20,
     "metadata": {},
     "output_type": "execute_result"
    }
   ],
   "source": [
    "dataframe.head()"
   ]
  },
  {
   "cell_type": "code",
   "execution_count": 21,
   "metadata": {},
   "outputs": [],
   "source": [
    "input_sequence = dataframe.copy()\n",
    "target_sequence = pd.DataFrame([input_sequence.pop(x) for x in ['r2','g2','b2','r3','g3','b3','r4','g4','b4']]).T\n"
   ]
  },
  {
   "cell_type": "code",
   "execution_count": 22,
   "metadata": {},
   "outputs": [
    {
     "data": {
      "text/html": [
       "<div>\n",
       "<style scoped>\n",
       "    .dataframe tbody tr th:only-of-type {\n",
       "        vertical-align: middle;\n",
       "    }\n",
       "\n",
       "    .dataframe tbody tr th {\n",
       "        vertical-align: top;\n",
       "    }\n",
       "\n",
       "    .dataframe thead th {\n",
       "        text-align: right;\n",
       "    }\n",
       "</style>\n",
       "<table border=\"1\" class=\"dataframe\">\n",
       "  <thead>\n",
       "    <tr style=\"text-align: right;\">\n",
       "      <th></th>\n",
       "      <th>r2</th>\n",
       "      <th>g2</th>\n",
       "      <th>b2</th>\n",
       "      <th>r3</th>\n",
       "      <th>g3</th>\n",
       "      <th>b3</th>\n",
       "      <th>r4</th>\n",
       "      <th>g4</th>\n",
       "      <th>b4</th>\n",
       "    </tr>\n",
       "  </thead>\n",
       "  <tbody>\n",
       "    <tr>\n",
       "      <th>0</th>\n",
       "      <td>78</td>\n",
       "      <td>100</td>\n",
       "      <td>184</td>\n",
       "      <td>6</td>\n",
       "      <td>10</td>\n",
       "      <td>200</td>\n",
       "      <td>137</td>\n",
       "      <td>204</td>\n",
       "      <td>235</td>\n",
       "    </tr>\n",
       "    <tr>\n",
       "      <th>1</th>\n",
       "      <td>254</td>\n",
       "      <td>127</td>\n",
       "      <td>80</td>\n",
       "      <td>246</td>\n",
       "      <td>61</td>\n",
       "      <td>26</td>\n",
       "      <td>211</td>\n",
       "      <td>31</td>\n",
       "      <td>9</td>\n",
       "    </tr>\n",
       "    <tr>\n",
       "      <th>2</th>\n",
       "      <td>149</td>\n",
       "      <td>190</td>\n",
       "      <td>45</td>\n",
       "      <td>105</td>\n",
       "      <td>231</td>\n",
       "      <td>194</td>\n",
       "      <td>63</td>\n",
       "      <td>69</td>\n",
       "      <td>83</td>\n",
       "    </tr>\n",
       "  </tbody>\n",
       "</table>\n",
       "</div>"
      ],
      "text/plain": [
       "    r2   g2   b2   r3   g3   b3   r4   g4   b4\n",
       "0   78  100  184    6   10  200  137  204  235\n",
       "1  254  127   80  246   61   26  211   31    9\n",
       "2  149  190   45  105  231  194   63   69   83"
      ]
     },
     "execution_count": 22,
     "metadata": {},
     "output_type": "execute_result"
    }
   ],
   "source": [
    "target_sequence"
   ]
  },
  {
   "cell_type": "code",
   "execution_count": 23,
   "metadata": {},
   "outputs": [],
   "source": [
    "input_sequence = np.reshape(input_sequence, (input_sequence.shape[0], input_sequence.shape[1], 1))\n",
    "target_sequence = np.reshape(target_sequence, (3,-1))\n"
   ]
  },
  {
   "cell_type": "code",
   "execution_count": 24,
   "metadata": {},
   "outputs": [
    {
     "data": {
      "text/plain": [
       "(3, 9)"
      ]
     },
     "execution_count": 24,
     "metadata": {},
     "output_type": "execute_result"
    }
   ],
   "source": [
    "input_sequence.shape\n",
    "target_sequence.shape"
   ]
  },
  {
   "cell_type": "code",
   "execution_count": 25,
   "metadata": {},
   "outputs": [],
   "source": [
    "model = tf.keras.models.Sequential()\n",
    "model.add(tf.keras.layers.LSTM(50, activation='relu', input_shape=(input_sequence.shape[1], input_sequence.shape[2])))\n",
    "model.add(tf.keras.layers.Dense(target_sequence.shape[1]))\n",
    "\n"
   ]
  },
  {
   "cell_type": "code",
   "execution_count": 26,
   "metadata": {},
   "outputs": [],
   "source": [
    "# Compile the model\n",
    "model.compile(optimizer='adam', loss='mse')\n",
    "\n"
   ]
  },
  {
   "cell_type": "code",
   "execution_count": 59,
   "metadata": {},
   "outputs": [
    {
     "name": "stdout",
     "output_type": "stream",
     "text": [
      "Model: \"sequential_1\"\n",
      "_________________________________________________________________\n",
      " Layer (type)                Output Shape              Param #   \n",
      "=================================================================\n",
      " lstm_1 (LSTM)               (None, 50)                10400     \n",
      "                                                                 \n",
      " dense_1 (Dense)             (None, 9)                 459       \n",
      "                                                                 \n",
      "=================================================================\n",
      "Total params: 10,859\n",
      "Trainable params: 10,859\n",
      "Non-trainable params: 0\n",
      "_________________________________________________________________\n"
     ]
    }
   ],
   "source": [
    "model.summary()"
   ]
  },
  {
   "cell_type": "code",
   "execution_count": 60,
   "metadata": {},
   "outputs": [
    {
     "name": "stdout",
     "output_type": "stream",
     "text": [
      "Epoch 1/100\n",
      "3/3 [==============================] - 0s 3ms/step - loss: 4.8239e-08\n",
      "Epoch 2/100\n",
      "3/3 [==============================] - 0s 3ms/step - loss: 7.9093e-06\n",
      "Epoch 3/100\n",
      "3/3 [==============================] - 0s 3ms/step - loss: 5.6391e-07\n",
      "Epoch 4/100\n",
      "3/3 [==============================] - 0s 2ms/step - loss: 3.7845e-05\n",
      "Epoch 5/100\n",
      "3/3 [==============================] - 0s 2ms/step - loss: 8.2665e-05\n",
      "Epoch 6/100\n",
      "3/3 [==============================] - 0s 4ms/step - loss: 5.3885e-05\n",
      "Epoch 7/100\n",
      "3/3 [==============================] - 0s 4ms/step - loss: 9.5025e-06\n",
      "Epoch 8/100\n",
      "3/3 [==============================] - 0s 3ms/step - loss: 3.2560e-05\n",
      "Epoch 9/100\n",
      "3/3 [==============================] - 0s 3ms/step - loss: 5.5844e-07\n",
      "Epoch 10/100\n",
      "3/3 [==============================] - 0s 3ms/step - loss: 1.3045e-05\n",
      "Epoch 11/100\n",
      "3/3 [==============================] - 0s 3ms/step - loss: 2.6996e-07\n",
      "Epoch 12/100\n",
      "3/3 [==============================] - 0s 3ms/step - loss: 1.6191e-05\n",
      "Epoch 13/100\n",
      "3/3 [==============================] - 0s 3ms/step - loss: 1.1479e-05\n",
      "Epoch 14/100\n",
      "3/3 [==============================] - 0s 3ms/step - loss: 2.2748e-07\n",
      "Epoch 15/100\n",
      "3/3 [==============================] - 0s 4ms/step - loss: 1.7375e-06\n",
      "Epoch 16/100\n",
      "3/3 [==============================] - 0s 2ms/step - loss: 4.0643e-07\n",
      "Epoch 17/100\n",
      "3/3 [==============================] - 0s 3ms/step - loss: 1.7649e-06\n",
      "Epoch 18/100\n",
      "3/3 [==============================] - 0s 4ms/step - loss: 2.1115e-06\n",
      "Epoch 19/100\n",
      "3/3 [==============================] - 0s 3ms/step - loss: 3.6607e-07\n",
      "Epoch 20/100\n",
      "3/3 [==============================] - 0s 4ms/step - loss: 1.3245e-07\n",
      "Epoch 21/100\n",
      "3/3 [==============================] - 0s 3ms/step - loss: 1.2855e-06\n",
      "Epoch 22/100\n",
      "3/3 [==============================] - 0s 3ms/step - loss: 2.6431e-06\n",
      "Epoch 23/100\n",
      "3/3 [==============================] - 0s 3ms/step - loss: 3.9789e-07\n",
      "Epoch 24/100\n",
      "3/3 [==============================] - 0s 3ms/step - loss: 2.6905e-05\n",
      "Epoch 25/100\n",
      "3/3 [==============================] - 0s 3ms/step - loss: 3.2244e-05\n",
      "Epoch 26/100\n",
      "3/3 [==============================] - 0s 3ms/step - loss: 1.1027e-05\n",
      "Epoch 27/100\n",
      "3/3 [==============================] - 0s 3ms/step - loss: 3.2667e-04\n",
      "Epoch 28/100\n",
      "3/3 [==============================] - 0s 3ms/step - loss: 2.0464e-05\n",
      "Epoch 29/100\n",
      "3/3 [==============================] - 0s 2ms/step - loss: 0.0016\n",
      "Epoch 30/100\n",
      "3/3 [==============================] - 0s 3ms/step - loss: 0.0024\n",
      "Epoch 31/100\n",
      "3/3 [==============================] - 0s 2ms/step - loss: 9.2162e-04\n",
      "Epoch 32/100\n",
      "3/3 [==============================] - 0s 3ms/step - loss: 2.6864e-04\n",
      "Epoch 33/100\n",
      "3/3 [==============================] - 0s 3ms/step - loss: 0.0017\n",
      "Epoch 34/100\n",
      "3/3 [==============================] - 0s 3ms/step - loss: 0.0017\n",
      "Epoch 35/100\n",
      "3/3 [==============================] - 0s 3ms/step - loss: 4.5912e-04\n",
      "Epoch 36/100\n",
      "3/3 [==============================] - 0s 3ms/step - loss: 8.4843e-05\n",
      "Epoch 37/100\n",
      "3/3 [==============================] - 0s 3ms/step - loss: 1.4348e-04\n",
      "Epoch 38/100\n",
      "3/3 [==============================] - 0s 2ms/step - loss: 1.5058e-05\n",
      "Epoch 39/100\n",
      "3/3 [==============================] - 0s 3ms/step - loss: 2.9141e-06\n",
      "Epoch 40/100\n",
      "3/3 [==============================] - 0s 3ms/step - loss: 1.5345e-04\n",
      "Epoch 41/100\n",
      "3/3 [==============================] - 0s 3ms/step - loss: 3.9779e-05\n",
      "Epoch 42/100\n",
      "3/3 [==============================] - 0s 3ms/step - loss: 1.9782e-04\n",
      "Epoch 43/100\n",
      "3/3 [==============================] - 0s 2ms/step - loss: 7.0445e-06\n",
      "Epoch 44/100\n",
      "3/3 [==============================] - 0s 4ms/step - loss: 0.0018\n",
      "Epoch 45/100\n",
      "3/3 [==============================] - 0s 3ms/step - loss: 0.0021\n",
      "Epoch 46/100\n",
      "3/3 [==============================] - 0s 3ms/step - loss: 5.3364e-05\n",
      "Epoch 47/100\n",
      "3/3 [==============================] - 0s 3ms/step - loss: 0.0078\n",
      "Epoch 48/100\n",
      "3/3 [==============================] - 0s 2ms/step - loss: 0.0024\n",
      "Epoch 49/100\n",
      "3/3 [==============================] - 0s 3ms/step - loss: 0.0074\n",
      "Epoch 50/100\n",
      "3/3 [==============================] - 0s 3ms/step - loss: 0.0035\n",
      "Epoch 51/100\n",
      "3/3 [==============================] - 0s 3ms/step - loss: 0.0045\n",
      "Epoch 52/100\n",
      "3/3 [==============================] - 0s 3ms/step - loss: 0.0102\n",
      "Epoch 53/100\n",
      "3/3 [==============================] - 0s 3ms/step - loss: 0.0063\n",
      "Epoch 54/100\n",
      "3/3 [==============================] - 0s 3ms/step - loss: 0.0049\n",
      "Epoch 55/100\n",
      "3/3 [==============================] - 0s 3ms/step - loss: 0.0014\n",
      "Epoch 56/100\n",
      "3/3 [==============================] - 0s 3ms/step - loss: 5.3152e-04\n",
      "Epoch 57/100\n",
      "3/3 [==============================] - 0s 3ms/step - loss: 0.0056\n",
      "Epoch 58/100\n",
      "3/3 [==============================] - 0s 3ms/step - loss: 5.0770e-04\n",
      "Epoch 59/100\n",
      "3/3 [==============================] - 0s 3ms/step - loss: 0.0697\n",
      "Epoch 60/100\n",
      "3/3 [==============================] - 0s 3ms/step - loss: 0.0027\n",
      "Epoch 61/100\n",
      "3/3 [==============================] - 0s 3ms/step - loss: 0.3551\n",
      "Epoch 62/100\n",
      "3/3 [==============================] - 0s 3ms/step - loss: 0.9728\n",
      "Epoch 63/100\n",
      "3/3 [==============================] - 0s 3ms/step - loss: 0.2189\n",
      "Epoch 64/100\n",
      "3/3 [==============================] - 0s 3ms/step - loss: 1.0929\n",
      "Epoch 65/100\n",
      "3/3 [==============================] - 0s 3ms/step - loss: 1.0992\n",
      "Epoch 66/100\n",
      "3/3 [==============================] - 0s 3ms/step - loss: 0.0335\n",
      "Epoch 67/100\n",
      "3/3 [==============================] - 0s 3ms/step - loss: 0.3790\n",
      "Epoch 68/100\n",
      "3/3 [==============================] - 0s 3ms/step - loss: 0.0310\n",
      "Epoch 69/100\n",
      "3/3 [==============================] - 0s 3ms/step - loss: 0.6764\n",
      "Epoch 70/100\n",
      "3/3 [==============================] - 0s 3ms/step - loss: 0.0591\n",
      "Epoch 71/100\n",
      "3/3 [==============================] - 0s 3ms/step - loss: 5.8826\n",
      "Epoch 72/100\n",
      "3/3 [==============================] - 0s 2ms/step - loss: 2.6763\n",
      "Epoch 73/100\n",
      "3/3 [==============================] - 0s 3ms/step - loss: 36.0514\n",
      "Epoch 74/100\n",
      "3/3 [==============================] - 0s 3ms/step - loss: 5.6882\n",
      "Epoch 75/100\n",
      "3/3 [==============================] - 0s 3ms/step - loss: 16.5327\n",
      "Epoch 76/100\n",
      "3/3 [==============================] - 0s 4ms/step - loss: 17.9578\n",
      "Epoch 77/100\n",
      "3/3 [==============================] - 0s 3ms/step - loss: 5.4066\n",
      "Epoch 78/100\n",
      "3/3 [==============================] - 0s 3ms/step - loss: 19.5709\n",
      "Epoch 79/100\n",
      "3/3 [==============================] - 0s 3ms/step - loss: 13.2181\n",
      "Epoch 80/100\n",
      "3/3 [==============================] - 0s 2ms/step - loss: 8.8925\n",
      "Epoch 81/100\n",
      "3/3 [==============================] - 0s 3ms/step - loss: 18.1169\n",
      "Epoch 82/100\n",
      "3/3 [==============================] - 0s 3ms/step - loss: 14.0492\n",
      "Epoch 83/100\n",
      "3/3 [==============================] - 0s 3ms/step - loss: 8.4255\n",
      "Epoch 84/100\n",
      "3/3 [==============================] - 0s 3ms/step - loss: 6.0347\n",
      "Epoch 85/100\n",
      "3/3 [==============================] - 0s 3ms/step - loss: 3.2024\n",
      "Epoch 86/100\n",
      "3/3 [==============================] - 0s 3ms/step - loss: 1.9491\n",
      "Epoch 87/100\n",
      "3/3 [==============================] - 0s 3ms/step - loss: 1.4971\n",
      "Epoch 88/100\n",
      "3/3 [==============================] - 0s 3ms/step - loss: 1.2656\n",
      "Epoch 89/100\n",
      "3/3 [==============================] - 0s 3ms/step - loss: 1.2620\n",
      "Epoch 90/100\n",
      "3/3 [==============================] - 0s 3ms/step - loss: 0.9517\n",
      "Epoch 91/100\n",
      "3/3 [==============================] - 0s 3ms/step - loss: 0.5239\n",
      "Epoch 92/100\n",
      "3/3 [==============================] - 0s 3ms/step - loss: 0.2897\n",
      "Epoch 93/100\n",
      "3/3 [==============================] - 0s 3ms/step - loss: 0.2185\n",
      "Epoch 94/100\n",
      "3/3 [==============================] - 0s 3ms/step - loss: 0.2027\n",
      "Epoch 95/100\n",
      "3/3 [==============================] - 0s 3ms/step - loss: 0.2183\n",
      "Epoch 96/100\n",
      "3/3 [==============================] - 0s 3ms/step - loss: 0.1251\n",
      "Epoch 97/100\n",
      "3/3 [==============================] - 0s 3ms/step - loss: 0.1077\n",
      "Epoch 98/100\n",
      "3/3 [==============================] - 0s 2ms/step - loss: 0.0481\n",
      "Epoch 99/100\n",
      "3/3 [==============================] - 0s 3ms/step - loss: 0.0335\n",
      "Epoch 100/100\n",
      "3/3 [==============================] - 0s 2ms/step - loss: 0.0338\n"
     ]
    }
   ],
   "source": [
    "# Train the model\n",
    "history=model.fit(input_sequence, target_sequence, epochs=100, batch_size=1)\n",
    "\n"
   ]
  },
  {
   "cell_type": "code",
   "execution_count": 61,
   "metadata": {},
   "outputs": [
    {
     "name": "stdout",
     "output_type": "stream",
     "text": [
      "1/1 [==============================] - 0s 18ms/step\n",
      "[[253.99628  127.11477   80.03179  245.84407   60.941433  25.91576\n",
      "  211.07498   31.273294   8.920325]]\n"
     ]
    }
   ],
   "source": [
    "# Generate some test data\n",
    "test_input = np.array([[223,158,114]])\n",
    "\n",
    "\n",
    "predictions = model.predict(test_input)\n",
    "\n",
    "# Print the predictions\n",
    "print(predictions)"
   ]
  },
  {
   "cell_type": "code",
   "execution_count": 62,
   "metadata": {},
   "outputs": [
    {
     "data": {
      "image/png": "[encoded data removed]",
      "text/plain": [
       "<Figure size 640x480 with 1 Axes>"
      ]
     },
     "metadata": {},
     "output_type": "display_data"
    },
    {
     "data": {
      "image/png": "[encoded data removed]",
      "text/plain": [
       "<Figure size 640x480 with 1 Axes>"
      ]
     },
     "metadata": {},
     "output_type": "display_data"
    }
   ],
   "source": [
    "plt.imshow([[[x / 255 for x in test_input[0]]]])\n",
    "plt.show()\n",
    "plt.imshow([[[x / 255 for x in predictions[0][0:3]]]])\n",
    "plt.show()"
   ]
  },
  {
   "cell_type": "code",
   "execution_count": 63,
   "metadata": {},
   "outputs": [
    {
     "data": {
      "image/png": "[encoded data removed]",
      "text/plain": [
       "<Figure size 640x480 with 1 Axes>"
      ]
     },
     "metadata": {},
     "output_type": "display_data"
    }
   ],
   "source": [
    "\n",
    "# acc=history.history['accuracy']\n",
    "# val_acc=history.history['val_accuracy']\n",
    "loss=history.history['loss']\n",
    "# val_loss=history.history['val_loss']\n",
    "\n",
    "# epochs=range(len(acc)) # Get number of epochs\n",
    "epochs=range(len(loss)) # Get number of epochs\n",
    "\n",
    "plt.plot(epochs, loss, 'r', \"Training Accuracy\")\n",
    "plt.title('Training and validation accuracy')\n",
    "plt.show()\n",
    "\n",
    "# plt.plot(epochs, acc, 'r', \"Training Accuracy\")\n",
    "# plt.plot(epochs, val_acc, 'b', \"Validation Accuracy\")\n",
    "# plt.title('Training and validation accuracy')\n",
    "# plt.show()\n",
    "# print(\"\")\n",
    "\n",
    "\n",
    "# plt.plot(epochs, loss, 'r', \"Training Loss\")\n",
    "# plt.plot(epochs, val_loss, 'b', \"Validation Loss\")\n",
    "# plt.show()"
   ]
  },
  {
   "cell_type": "code",
   "execution_count": null,
   "metadata": {},
   "outputs": [],
   "source": []
  }
 ],
 "metadata": {
  "kernelspec": {
   "display_name": ".venv",
   "language": "python",
   "name": "python3"
  },
  "language_info": {
   "codemirror_mode": {
    "name": "ipython",
    "version": 3
   },
   "file_extension": ".py",
   "mimetype": "text/x-python",
   "name": "python",
   "nbconvert_exporter": "python",
   "pygments_lexer": "ipython3",
   "version": "3.9.7"
  },
  "orig_nbformat": 4
 },
 "nbformat": 4,
 "nbformat_minor": 2
}
